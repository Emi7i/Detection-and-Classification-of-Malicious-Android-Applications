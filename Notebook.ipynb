{
 "cells": [
  {
   "cell_type": "markdown",
   "id": "56c8c67b",
   "metadata": {},
   "source": [
    "# Detekcija i klasifikacija malicioznih Android aplikacija\n"
   ]
  },
  {
   "cell_type": "markdown",
   "id": "4785f918",
   "metadata": {},
   "source": [
    "> Detaljan pregleda kako sam razmisljala i implementirala stvari kroz vreme mozete videti u [TODO.md](TODO.md) fajlu "
   ]
  },
  {
   "cell_type": "markdown",
   "id": "20843e81",
   "metadata": {},
   "source": [
    "## Predprocesiranje podataka\n"
   ]
  },
  {
   "cell_type": "markdown",
   "id": "39aea030",
   "metadata": {},
   "source": [
    "Glava ideja je da naš binarni model korsiti statički skup podataka, dok dinamički koristi statički + dinamički skup. "
   ]
  }
 ],
 "metadata": {
  "kernelspec": {
   "display_name": "malware_detection_env",
   "language": "python",
   "name": "python3"
  },
  "language_info": {
   "codemirror_mode": {
    "name": "ipython",
    "version": 3
   },
   "file_extension": ".py",
   "mimetype": "text/x-python",
   "name": "python",
   "nbconvert_exporter": "python",
   "pygments_lexer": "ipython3",
   "version": "3.13.8"
  }
 },
 "nbformat": 4,
 "nbformat_minor": 5
}
